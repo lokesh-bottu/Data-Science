{
 "cells": [
  {
   "cell_type": "code",
   "execution_count": 4,
   "id": "596372d4",
   "metadata": {},
   "outputs": [],
   "source": [
    "import numpy as np\n",
    "import pandas as pd"
   ]
  },
  {
   "cell_type": "code",
   "execution_count": 14,
   "id": "ddb723bb",
   "metadata": {},
   "outputs": [
    {
     "data": {
      "text/plain": [
       "array([3.5, 4.5, 5.5, 6. , 7. ])"
      ]
     },
     "execution_count": 14,
     "metadata": {},
     "output_type": "execute_result"
    }
   ],
   "source": [
    "arr = np.array([[1,2,3,4,5],[6,7,8,8,9]])\n",
    "arr.sum(axis=0)\n",
    "arr.sum(axis=1)\n",
    "arr.mean(axis=0)"
   ]
  },
  {
   "cell_type": "code",
   "execution_count": 20,
   "id": "9678eb1d",
   "metadata": {},
   "outputs": [
    {
     "name": "stdout",
     "output_type": "stream",
     "text": [
      "[10 20 30  4  5]\n",
      "[10 20 30  4  5]\n"
     ]
    }
   ],
   "source": [
    "arr = np.array([10,20,30,4,5])\n",
    "for i in arr:\n",
    "    print(i)"
   ]
  },
  {
   "cell_type": "code",
   "execution_count": 24,
   "id": "85e51ae6",
   "metadata": {},
   "outputs": [
    {
     "data": {
      "text/plain": [
       "array([10, 20, 30,  4,  5])"
      ]
     },
     "execution_count": 24,
     "metadata": {},
     "output_type": "execute_result"
    }
   ],
   "source": [
    "arr[0]"
   ]
  },
  {
   "cell_type": "code",
   "execution_count": 26,
   "id": "bfe1f327",
   "metadata": {},
   "outputs": [
    {
     "data": {
      "text/plain": [
       "array([[10, 20, 30,  4,  5],\n",
       "       [10, 20, 30,  4,  5]])"
      ]
     },
     "execution_count": 26,
     "metadata": {},
     "output_type": "execute_result"
    }
   ],
   "source": [
    "arr"
   ]
  },
  {
   "cell_type": "markdown",
   "id": "4c8f3ff4",
   "metadata": {},
   "source": [
    "# Mean"
   ]
  },
  {
   "cell_type": "code",
   "execution_count": 29,
   "id": "3ce86d75",
   "metadata": {},
   "outputs": [
    {
     "name": "stdout",
     "output_type": "stream",
     "text": [
      "25.46511627906977\n"
     ]
    }
   ],
   "source": [
    "arr = np.array([10,20,30,4,5])\n",
    "avg = np.average(arr,weights=[1,2,34,5,1])\n",
    "print(avg)"
   ]
  },
  {
   "cell_type": "markdown",
   "id": "37a46808",
   "metadata": {},
   "source": [
    "# Median"
   ]
  },
  {
   "cell_type": "code",
   "execution_count": 32,
   "id": "a074aaba",
   "metadata": {},
   "outputs": [
    {
     "data": {
      "text/plain": [
       "8.0"
      ]
     },
     "execution_count": 32,
     "metadata": {},
     "output_type": "execute_result"
    }
   ],
   "source": [
    "arr = np.array([10,9,8,6,5])\n",
    "np.median(arr)"
   ]
  },
  {
   "cell_type": "markdown",
   "id": "02182011",
   "metadata": {},
   "source": [
    "# Mode"
   ]
  },
  {
   "cell_type": "code",
   "execution_count": 43,
   "id": "7f4cd0f3",
   "metadata": {},
   "outputs": [],
   "source": [
    "from collections import Counter\n",
    "arr = np.array([1,1,1,2,5,1,1,12,3,2,2,2,4,3,2,1,1,2,33,2,3,1,1,2,23,5])"
   ]
  },
  {
   "cell_type": "code",
   "execution_count": 56,
   "id": "92745834",
   "metadata": {},
   "outputs": [
    {
     "name": "stdout",
     "output_type": "stream",
     "text": [
      "Counter({1: 9, 2: 8, 3: 3, 5: 2, 12: 1, 4: 1, 33: 1, 23: 1})\n"
     ]
    },
    {
     "data": {
      "text/plain": [
       "[(1, 9)]"
      ]
     },
     "execution_count": 56,
     "metadata": {},
     "output_type": "execute_result"
    }
   ],
   "source": [
    "count = Counter(arr)\n",
    "print(count)\n",
    "count.most_common(1)   #1 defines the nth max occurance"
   ]
  },
  {
   "cell_type": "markdown",
   "id": "952a30e1",
   "metadata": {},
   "source": [
    "# Standard Deviation"
   ]
  },
  {
   "cell_type": "code",
   "execution_count": 66,
   "id": "b1ff700d",
   "metadata": {},
   "outputs": [
    {
     "name": "stdout",
     "output_type": "stream",
     "text": [
      "2.449489742783178\n"
     ]
    }
   ],
   "source": [
    "marks =np.array([9,8,5,2,6])\n",
    "mean = np.mean(marks)\n",
    "sum = 0\n",
    "for i in marks:\n",
    "    sum = sum+((i-mean)**2)\n",
    "deviation = (sum/len(marks))**0.5\n",
    "print(deviation)"
   ]
  }
 ],
 "metadata": {
  "kernelspec": {
   "display_name": "Python 3 (ipykernel)",
   "language": "python",
   "name": "python3"
  },
  "language_info": {
   "codemirror_mode": {
    "name": "ipython",
    "version": 3
   },
   "file_extension": ".py",
   "mimetype": "text/x-python",
   "name": "python",
   "nbconvert_exporter": "python",
   "pygments_lexer": "ipython3",
   "version": "3.9.16"
  }
 },
 "nbformat": 4,
 "nbformat_minor": 5
}
