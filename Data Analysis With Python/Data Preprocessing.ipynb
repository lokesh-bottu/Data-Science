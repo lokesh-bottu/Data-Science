{
 "cells": [
  {
   "cell_type": "code",
   "execution_count": 2,
   "id": "65ca8abc",
   "metadata": {},
   "outputs": [],
   "source": [
    "import numpy as np\n",
    "import pandas as pd"
   ]
  },
  {
   "cell_type": "code",
   "execution_count": 3,
   "id": "376a9220",
   "metadata": {},
   "outputs": [],
   "source": [
    "data = pd.read_csv(\"Google Play Store.csv\")"
   ]
  },
  {
   "cell_type": "markdown",
   "id": "ae1dad8b",
   "metadata": {},
   "source": [
    "### Null Values Count"
   ]
  },
  {
   "cell_type": "code",
   "execution_count": 6,
   "id": "a94a71d4",
   "metadata": {},
   "outputs": [
    {
     "data": {
      "text/plain": [
       "App                  0\n",
       "Category             0\n",
       "Rating            1474\n",
       "Reviews              0\n",
       "Size                 0\n",
       "Installs             0\n",
       "Type                 1\n",
       "Price                0\n",
       "Content Rating       1\n",
       "Genres               0\n",
       "Last Updated         0\n",
       "Current Ver          8\n",
       "Android Ver          3\n",
       "dtype: int64"
      ]
     },
     "execution_count": 6,
     "metadata": {},
     "output_type": "execute_result"
    }
   ],
   "source": [
    "data.isnull().sum()"
   ]
  },
  {
   "cell_type": "markdown",
   "id": "dbcd1bbe",
   "metadata": {},
   "source": [
    "### Dropping the Null values and Finding the sum"
   ]
  },
  {
   "cell_type": "code",
   "execution_count": 28,
   "id": "ecea7a04",
   "metadata": {},
   "outputs": [
    {
     "data": {
      "text/plain": [
       "App               0\n",
       "Category          0\n",
       "Rating            0\n",
       "Reviews           0\n",
       "Size              0\n",
       "Installs          0\n",
       "Type              0\n",
       "Price             0\n",
       "Content Rating    0\n",
       "Genres            0\n",
       "Last Updated      0\n",
       "Current Ver       0\n",
       "Android Ver       0\n",
       "dtype: int64"
      ]
     },
     "execution_count": 28,
     "metadata": {},
     "output_type": "execute_result"
    }
   ],
   "source": [
    "df = data\n",
    "data.dropna().isnull().sum()"
   ]
  },
  {
   "cell_type": "code",
   "execution_count": 17,
   "id": "07ed18be",
   "metadata": {},
   "outputs": [],
   "source": [
    "frame = pd.DataFrame(df.isnull().sum())"
   ]
  },
  {
   "cell_type": "code",
   "execution_count": 18,
   "id": "0c1fe9b0",
   "metadata": {},
   "outputs": [
    {
     "data": {
      "text/html": [
       "<div>\n",
       "<style scoped>\n",
       "    .dataframe tbody tr th:only-of-type {\n",
       "        vertical-align: middle;\n",
       "    }\n",
       "\n",
       "    .dataframe tbody tr th {\n",
       "        vertical-align: top;\n",
       "    }\n",
       "\n",
       "    .dataframe thead th {\n",
       "        text-align: right;\n",
       "    }\n",
       "</style>\n",
       "<table border=\"1\" class=\"dataframe\">\n",
       "  <thead>\n",
       "    <tr style=\"text-align: right;\">\n",
       "      <th></th>\n",
       "      <th>0</th>\n",
       "    </tr>\n",
       "  </thead>\n",
       "  <tbody>\n",
       "    <tr>\n",
       "      <th>App</th>\n",
       "      <td>0</td>\n",
       "    </tr>\n",
       "    <tr>\n",
       "      <th>Category</th>\n",
       "      <td>0</td>\n",
       "    </tr>\n",
       "    <tr>\n",
       "      <th>Rating</th>\n",
       "      <td>1474</td>\n",
       "    </tr>\n",
       "    <tr>\n",
       "      <th>Reviews</th>\n",
       "      <td>0</td>\n",
       "    </tr>\n",
       "    <tr>\n",
       "      <th>Size</th>\n",
       "      <td>0</td>\n",
       "    </tr>\n",
       "    <tr>\n",
       "      <th>Installs</th>\n",
       "      <td>0</td>\n",
       "    </tr>\n",
       "    <tr>\n",
       "      <th>Type</th>\n",
       "      <td>1</td>\n",
       "    </tr>\n",
       "    <tr>\n",
       "      <th>Price</th>\n",
       "      <td>0</td>\n",
       "    </tr>\n",
       "    <tr>\n",
       "      <th>Content Rating</th>\n",
       "      <td>1</td>\n",
       "    </tr>\n",
       "    <tr>\n",
       "      <th>Genres</th>\n",
       "      <td>0</td>\n",
       "    </tr>\n",
       "    <tr>\n",
       "      <th>Last Updated</th>\n",
       "      <td>0</td>\n",
       "    </tr>\n",
       "    <tr>\n",
       "      <th>Current Ver</th>\n",
       "      <td>8</td>\n",
       "    </tr>\n",
       "    <tr>\n",
       "      <th>Android Ver</th>\n",
       "      <td>3</td>\n",
       "    </tr>\n",
       "  </tbody>\n",
       "</table>\n",
       "</div>"
      ],
      "text/plain": [
       "                   0\n",
       "App                0\n",
       "Category           0\n",
       "Rating          1474\n",
       "Reviews            0\n",
       "Size               0\n",
       "Installs           0\n",
       "Type               1\n",
       "Price              0\n",
       "Content Rating     1\n",
       "Genres             0\n",
       "Last Updated       0\n",
       "Current Ver        8\n",
       "Android Ver        3"
      ]
     },
     "execution_count": 18,
     "metadata": {},
     "output_type": "execute_result"
    }
   ],
   "source": [
    "frame"
   ]
  },
  {
   "cell_type": "markdown",
   "id": "3023ee66",
   "metadata": {},
   "source": [
    "# Data Analysis - Numeric"
   ]
  },
  {
   "cell_type": "code",
   "execution_count": 64,
   "id": "fcc498cf",
   "metadata": {},
   "outputs": [],
   "source": [
    "df = pd.read_csv(\"Google Play Store.csv\")"
   ]
  },
  {
   "cell_type": "code",
   "execution_count": 66,
   "id": "486aca13",
   "metadata": {},
   "outputs": [
    {
     "name": "stdout",
     "output_type": "stream",
     "text": [
      "4.191837606837612\n"
     ]
    }
   ],
   "source": [
    "data = df.dropna()\n",
    "avg_rating = sum(data['Rating'])/len(data['Rating'])\n",
    "print(avg_rating)"
   ]
  },
  {
   "cell_type": "code",
   "execution_count": 67,
   "id": "2a1bf663",
   "metadata": {},
   "outputs": [
    {
     "name": "stdout",
     "output_type": "stream",
     "text": [
      "4.191837606837612\n"
     ]
    }
   ],
   "source": [
    "total = 0 \n",
    "for i in data['Rating']:\n",
    "    total+=i\n",
    "avg_rating = total/len(data['Rating'])\n",
    "print(avg_rating)"
   ]
  },
  {
   "cell_type": "markdown",
   "id": "d6704c7f",
   "metadata": {},
   "source": [
    "### Calculating Average Reviews"
   ]
  },
  {
   "cell_type": "code",
   "execution_count": 79,
   "id": "bbb16984",
   "metadata": {},
   "outputs": [
    {
     "name": "stdout",
     "output_type": "stream",
     "text": [
      "1028757\n"
     ]
    }
   ],
   "source": [
    "for i in data['Reviews']:\n",
    "    i = int(i)\n",
    "    total = total + i\n",
    "avg_reviews = total /len(data['Reviews'])\n",
    "print(int(avg_reviews))"
   ]
  },
  {
   "cell_type": "markdown",
   "id": "38668c0c",
   "metadata": {},
   "source": [
    "# Categorical  "
   ]
  },
  {
   "cell_type": "code",
   "execution_count": 82,
   "id": "dd00ca64",
   "metadata": {},
   "outputs": [
    {
     "data": {
      "text/plain": [
       "33"
      ]
     },
     "execution_count": 82,
     "metadata": {},
     "output_type": "execute_result"
    }
   ],
   "source": [
    "data['Category'].nunique()"
   ]
  },
  {
   "cell_type": "code",
   "execution_count": 88,
   "id": "6872601c",
   "metadata": {},
   "outputs": [
    {
     "name": "stdout",
     "output_type": "stream",
     "text": [
      "ART_AND_DESIGN 61\n",
      "AUTO_AND_VEHICLES 73\n",
      "BEAUTY 42\n",
      "BOOKS_AND_REFERENCE 178\n",
      "BUSINESS 303\n",
      "COMICS 58\n",
      "COMMUNICATION 328\n",
      "DATING 195\n",
      "EDUCATION 155\n",
      "ENTERTAINMENT 149\n",
      "EVENTS 45\n",
      "FINANCE 323\n",
      "FOOD_AND_DRINK 109\n",
      "HEALTH_AND_FITNESS 297\n",
      "HOUSE_AND_HOME 76\n",
      "LIBRARIES_AND_DEMO 64\n",
      "LIFESTYLE 314\n",
      "GAME 1097\n",
      "FAMILY 1746\n",
      "MEDICAL 350\n",
      "SOCIAL 259\n",
      "SHOPPING 238\n",
      "PHOTOGRAPHY 317\n",
      "SPORTS 319\n",
      "TRAVEL_AND_LOCAL 226\n",
      "TOOLS 733\n",
      "PERSONALIZATION 312\n",
      "PRODUCTIVITY 351\n",
      "PARENTING 50\n",
      "WEATHER 75\n",
      "VIDEO_PLAYERS 160\n",
      "NEWS_AND_MAGAZINES 233\n",
      "MAPS_AND_NAVIGATION 124\n"
     ]
    }
   ],
   "source": [
    "cat = {}\n",
    "for i in data['Category'].unique():\n",
    "    count = 0\n",
    "    for j in data['Category']:\n",
    "        if j == i:\n",
    "            count+=1\n",
    "    cat[i]=count\n",
    "for i in cat:\n",
    "    print(i,cat[i])"
   ]
  },
  {
   "cell_type": "code",
   "execution_count": 94,
   "id": "3ae2b82b",
   "metadata": {},
   "outputs": [
    {
     "data": {
      "text/plain": [
       "pandas.core.series.Series"
      ]
     },
     "execution_count": 94,
     "metadata": {},
     "output_type": "execute_result"
    }
   ],
   "source": [
    "print(df['Category'].describe())"
   ]
  },
  {
   "cell_type": "markdown",
   "id": "95a78597",
   "metadata": {},
   "source": [
    "# Handling the Null Values-Numeric"
   ]
  },
  {
   "cell_type": "code",
   "execution_count": 17,
   "id": "4cce8ecd",
   "metadata": {},
   "outputs": [],
   "source": [
    "from sklearn.impute import SimpleImputer\n",
    "data = pd.read_csv(\"https://raw.githubusercontent.com/AshishJangra27/Data-Analysis-with-Python-GFG/main/7.%20Null%20Values%20Handling%20-%20Numeric/Data.csv\")\n",
    "data.to_csv(\"Data.csv\",index=False)"
   ]
  },
  {
   "cell_type": "code",
   "execution_count": 99,
   "id": "cc58395d",
   "metadata": {},
   "outputs": [
    {
     "data": {
      "text/plain": [
       "63777.77777777778"
      ]
     },
     "execution_count": 99,
     "metadata": {},
     "output_type": "execute_result"
    }
   ],
   "source": [
    "np.mean(data['Salary'])"
   ]
  },
  {
   "cell_type": "markdown",
   "id": "d0da0ac0",
   "metadata": {},
   "source": [
    "# Filling the Null Values with most_frequent"
   ]
  },
  {
   "cell_type": "code",
   "execution_count": 19,
   "id": "49ff55e4",
   "metadata": {},
   "outputs": [],
   "source": [
    "imputer = SimpleImputer(missing_values = np.nan,strategy='most_frequent')\n",
    "imputer.fit(data.iloc[:,:].values)\n",
    "data.iloc[:,:]= imputer.transform(data.iloc[:,:].values)"
   ]
  },
  {
   "cell_type": "code",
   "execution_count": 27,
   "id": "8a7e18b4",
   "metadata": {},
   "outputs": [
    {
     "data": {
      "text/html": [
       "<div>\n",
       "<style scoped>\n",
       "    .dataframe tbody tr th:only-of-type {\n",
       "        vertical-align: middle;\n",
       "    }\n",
       "\n",
       "    .dataframe tbody tr th {\n",
       "        vertical-align: top;\n",
       "    }\n",
       "\n",
       "    .dataframe thead th {\n",
       "        text-align: right;\n",
       "    }\n",
       "</style>\n",
       "<table border=\"1\" class=\"dataframe\">\n",
       "  <thead>\n",
       "    <tr style=\"text-align: right;\">\n",
       "      <th></th>\n",
       "      <th>Country</th>\n",
       "      <th>Age</th>\n",
       "      <th>Salary</th>\n",
       "      <th>Purchased</th>\n",
       "    </tr>\n",
       "  </thead>\n",
       "  <tbody>\n",
       "    <tr>\n",
       "      <th>0</th>\n",
       "      <td>France</td>\n",
       "      <td>44.0</td>\n",
       "      <td>72000.0</td>\n",
       "      <td>Yes</td>\n",
       "    </tr>\n",
       "    <tr>\n",
       "      <th>1</th>\n",
       "      <td>Spain</td>\n",
       "      <td>27.0</td>\n",
       "      <td>48000.0</td>\n",
       "      <td>Yes</td>\n",
       "    </tr>\n",
       "    <tr>\n",
       "      <th>2</th>\n",
       "      <td>France</td>\n",
       "      <td>30.0</td>\n",
       "      <td>54000.0</td>\n",
       "      <td>Yes</td>\n",
       "    </tr>\n",
       "    <tr>\n",
       "      <th>3</th>\n",
       "      <td>Spain</td>\n",
       "      <td>38.0</td>\n",
       "      <td>61000.0</td>\n",
       "      <td>No</td>\n",
       "    </tr>\n",
       "    <tr>\n",
       "      <th>4</th>\n",
       "      <td>Germany</td>\n",
       "      <td>40.0</td>\n",
       "      <td>48000.0</td>\n",
       "      <td>Yes</td>\n",
       "    </tr>\n",
       "    <tr>\n",
       "      <th>5</th>\n",
       "      <td>France</td>\n",
       "      <td>35.0</td>\n",
       "      <td>58000.0</td>\n",
       "      <td>Yes</td>\n",
       "    </tr>\n",
       "    <tr>\n",
       "      <th>6</th>\n",
       "      <td>Spain</td>\n",
       "      <td>27.0</td>\n",
       "      <td>52000.0</td>\n",
       "      <td>No</td>\n",
       "    </tr>\n",
       "    <tr>\n",
       "      <th>7</th>\n",
       "      <td>France</td>\n",
       "      <td>48.0</td>\n",
       "      <td>79000.0</td>\n",
       "      <td>Yes</td>\n",
       "    </tr>\n",
       "    <tr>\n",
       "      <th>8</th>\n",
       "      <td>Germany</td>\n",
       "      <td>50.0</td>\n",
       "      <td>83000.0</td>\n",
       "      <td>No</td>\n",
       "    </tr>\n",
       "    <tr>\n",
       "      <th>9</th>\n",
       "      <td>France</td>\n",
       "      <td>37.0</td>\n",
       "      <td>67000.0</td>\n",
       "      <td>Yes</td>\n",
       "    </tr>\n",
       "  </tbody>\n",
       "</table>\n",
       "</div>"
      ],
      "text/plain": [
       "   Country   Age   Salary Purchased\n",
       "0   France  44.0  72000.0       Yes\n",
       "1    Spain  27.0  48000.0       Yes\n",
       "2   France  30.0  54000.0       Yes\n",
       "3    Spain  38.0  61000.0        No\n",
       "4  Germany  40.0  48000.0       Yes\n",
       "5   France  35.0  58000.0       Yes\n",
       "6    Spain  27.0  52000.0        No\n",
       "7   France  48.0  79000.0       Yes\n",
       "8  Germany  50.0  83000.0        No\n",
       "9   France  37.0  67000.0       Yes"
      ]
     },
     "execution_count": 27,
     "metadata": {},
     "output_type": "execute_result"
    }
   ],
   "source": [
    "data"
   ]
  },
  {
   "cell_type": "markdown",
   "id": "2bb9fc50",
   "metadata": {},
   "source": [
    "# Filling the Null Values in GooglePlayStore"
   ]
  },
  {
   "cell_type": "code",
   "execution_count": 40,
   "id": "5d4fa8bf",
   "metadata": {},
   "outputs": [],
   "source": [
    "import numpy as np\n",
    "import pandas as pd\n",
    "data = pd.read_csv(\"Google Play Store.csv\")"
   ]
  },
  {
   "cell_type": "markdown",
   "id": "44103b3f",
   "metadata": {},
   "source": [
    "### Importing SimpleImputer from sklearn.impute"
   ]
  },
  {
   "cell_type": "code",
   "execution_count": 41,
   "id": "82299ee3",
   "metadata": {},
   "outputs": [],
   "source": [
    "from sklearn.impute import SimpleImputer"
   ]
  },
  {
   "cell_type": "markdown",
   "id": "87725205",
   "metadata": {},
   "source": [
    "### Inserting into new CSV file after handling the Null values with most_frequent strategy"
   ]
  },
  {
   "cell_type": "code",
   "execution_count": 42,
   "id": "aea36d3b",
   "metadata": {},
   "outputs": [],
   "source": [
    "impute = SimpleImputer(missing_values=np.nan,strategy=\"most_frequent\")\n",
    "impute.fit(data.iloc[:,:].values)\n",
    "data.iloc[:,:]=impute.transform(data.iloc[:,:].values)\n",
    "data.to_csv(\"googleplaystore.csv\",index=False)"
   ]
  },
  {
   "cell_type": "code",
   "execution_count": 44,
   "id": "cdebc503",
   "metadata": {},
   "outputs": [
    {
     "data": {
      "text/plain": [
       "App               0\n",
       "Category          0\n",
       "Rating            0\n",
       "Reviews           0\n",
       "Size              0\n",
       "Installs          0\n",
       "Type              0\n",
       "Price             0\n",
       "Content Rating    0\n",
       "Genres            0\n",
       "Last Updated      0\n",
       "Current Ver       0\n",
       "Android Ver       0\n",
       "dtype: int64"
      ]
     },
     "execution_count": 44,
     "metadata": {},
     "output_type": "execute_result"
    }
   ],
   "source": [
    "data = pd.read_csv(\"googleplaystore.csv\") \n",
    "data.isnull().sum()"
   ]
  },
  {
   "cell_type": "code",
   "execution_count": 45,
   "id": "5c4a687d",
   "metadata": {},
   "outputs": [
    {
     "data": {
      "text/plain": [
       "App                  0\n",
       "Category             0\n",
       "Rating            1474\n",
       "Reviews              0\n",
       "Size                 0\n",
       "Installs             0\n",
       "Type                 1\n",
       "Price                0\n",
       "Content Rating       1\n",
       "Genres               0\n",
       "Last Updated         0\n",
       "Current Ver          8\n",
       "Android Ver          3\n",
       "dtype: int64"
      ]
     },
     "execution_count": 45,
     "metadata": {},
     "output_type": "execute_result"
    }
   ],
   "source": [
    "df = pd.read_csv(\"Google Play Store.csv\") \n",
    "df.isnull().sum()"
   ]
  },
  {
   "cell_type": "code",
   "execution_count": null,
   "id": "2cfaf9cf",
   "metadata": {},
   "outputs": [],
   "source": []
  }
 ],
 "metadata": {
  "kernelspec": {
   "display_name": "Python 3 (ipykernel)",
   "language": "python",
   "name": "python3"
  },
  "language_info": {
   "codemirror_mode": {
    "name": "ipython",
    "version": 3
   },
   "file_extension": ".py",
   "mimetype": "text/x-python",
   "name": "python",
   "nbconvert_exporter": "python",
   "pygments_lexer": "ipython3",
   "version": "3.9.12"
  }
 },
 "nbformat": 4,
 "nbformat_minor": 5
}
