{
 "cells": [
  {
   "cell_type": "code",
   "execution_count": 2,
   "id": "01ee869d",
   "metadata": {},
   "outputs": [],
   "source": [
    "import pandas as pd\n",
    "import numpy as np"
   ]
  },
  {
   "cell_type": "markdown",
   "id": "e4c90e01",
   "metadata": {},
   "source": [
    "### Reads the Csv file from github and inserts into a new csv file again "
   ]
  },
  {
   "cell_type": "code",
   "execution_count": 6,
   "id": "3e02b487",
   "metadata": {},
   "outputs": [],
   "source": [
    "play = pd.read_csv(\"https://raw.githubusercontent.com/AshishJangra27/Data-Analysis-with-Python-GFG/main/2.%20Dataset%20Walkthrough/googleplaystore.csv\")\n",
    "play.to_csv(\"Google Play Store.csv\",index=False)"
   ]
  },
  {
   "cell_type": "markdown",
   "id": "5d8dd751",
   "metadata": {},
   "source": [
    "### Gives the column names"
   ]
  },
  {
   "cell_type": "code",
   "execution_count": null,
   "id": "958d87e8",
   "metadata": {},
   "outputs": [],
   "source": [
    "for i in play.columns:\n",
    "    print(i)"
   ]
  },
  {
   "cell_type": "code",
   "execution_count": null,
   "id": "c765b039",
   "metadata": {},
   "outputs": [],
   "source": [
    "data = play\n",
    "for i in data['App'].unique():\n",
    "    print(i)"
   ]
  },
  {
   "cell_type": "code",
   "execution_count": null,
   "id": "cc9476aa",
   "metadata": {},
   "outputs": [],
   "source": [
    "df = play\n",
    "df[df['Type']=='Free']"
   ]
  },
  {
   "cell_type": "code",
   "execution_count": 13,
   "id": "7e527232",
   "metadata": {},
   "outputs": [
    {
     "data": {
      "text/plain": [
       "0       Photo Editor & Candy Camera & Grid & ScrapBook\n",
       "1                                  Coloring book moana\n",
       "2    U Launcher Lite – FREE Live Cool Themes, Hide ...\n",
       "3                                Sketch - Draw & Paint\n",
       "4                Pixel Draw - Number Art Coloring Book\n",
       "Name: App, dtype: object"
      ]
     },
     "execution_count": 13,
     "metadata": {},
     "output_type": "execute_result"
    }
   ],
   "source": [
    "data['App'].head()"
   ]
  },
  {
   "cell_type": "code",
   "execution_count": null,
   "id": "0c51d109",
   "metadata": {},
   "outputs": [],
   "source": []
  }
 ],
 "metadata": {
  "kernelspec": {
   "display_name": "Python 3 (ipykernel)",
   "language": "python",
   "name": "python3"
  },
  "language_info": {
   "codemirror_mode": {
    "name": "ipython",
    "version": 3
   },
   "file_extension": ".py",
   "mimetype": "text/x-python",
   "name": "python",
   "nbconvert_exporter": "python",
   "pygments_lexer": "ipython3",
   "version": "3.9.12"
  }
 },
 "nbformat": 4,
 "nbformat_minor": 5
}
